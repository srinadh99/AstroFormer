{
 "cells": [
  {
   "cell_type": "markdown",
   "metadata": {},
   "source": [
    "## Star-Galaxy Classification (Experiment 3) using Vision Transformer (ViT) Model with CLS token derived uisng the Photometric Features. Query is defined using only photometry data (CLS Token) in the attention and defining Cross-Attention. The model is orinally trained using data from Experiment 1."
   ]
  },
  {
   "cell_type": "code",
   "execution_count": 1,
   "metadata": {
    "_cell_guid": "b1076dfc-b9ad-4769-8c92-a6c4dae69d19",
    "_uuid": "8f2839f25d086af736a60e9eeb907d3b93b6e0e5",
    "papermill": {
     "duration": 5.741358,
     "end_time": "2021-07-21T04:38:23.008711",
     "exception": false,
     "start_time": "2021-07-21T04:38:17.267353",
     "status": "completed"
    },
    "tags": []
   },
   "outputs": [],
   "source": [
    "import warnings\n",
    "warnings.filterwarnings(\"ignore\")\n",
    "\n",
    "import os\n",
    "import numpy as np\n",
    "np.random.seed(69)\n",
    "import pandas as pd\n",
    "import random\n",
    "import matplotlib.pyplot as plt\n",
    "import matplotlib.image as img\n",
    "import seaborn as sns\n",
    "sns.set()\n",
    "# from tqdm.notebook \n",
    "import tqdm\n",
    "from sklearn import metrics\n",
    "from sklearn import preprocessing\n",
    "from sklearn.model_selection import train_test_split\n",
    "import time\n",
    "import pickle\n",
    "from sklearn.model_selection import KFold\n",
    "from sklearn.metrics import accuracy_score, precision_score, recall_score, f1_score\n",
    "\n",
    "import torch\n",
    "import torch.nn as nn\n",
    "import torch.optim as optim\n",
    "from torch.utils.data import DataLoader, TensorDataset\n",
    "import torchvision.transforms as transforms\n",
    "from torch.utils.data import Dataset, DataLoader\n",
    "from linformer import LinformerCA\n",
    "from vit_pytorch.efficient_new import ViT\n"
   ]
  },
  {
   "cell_type": "code",
   "execution_count": 2,
   "metadata": {
    "tags": []
   },
   "outputs": [],
   "source": [
    "dnnx_sg = np.load(\"/home/srinadb/SG/SGP/Dataset/Experiment3/dnnx_sg_exp3.npy\")\n",
    "X_sg = np.load(\"/home/srinadb/SG/SGP/Dataset/Experiment3/X_sg_exp3.npy\")\n",
    "X_sg = X_sg.transpose((0, 3, 1, 2))\n",
    "\n",
    "y_sg = np.load(\"/home/srinadb/SG/SGP/Dataset/Experiment3/y_sg_exp3.npy\")\n",
    "y_sg = np.argmax(y_sg, axis=1)"
   ]
  },
  {
   "cell_type": "code",
   "execution_count": 3,
   "metadata": {
    "tags": []
   },
   "outputs": [],
   "source": [
    "def get_metrics(y_pred, y_test, labels, to_print=True):\n",
    "    correct_labels = np.where(y_pred==y_test)[0]\n",
    "    accuracy = metrics.accuracy_score(y_test, y_pred)\n",
    "    precision = metrics.precision_score(y_test, y_pred,average='macro')\n",
    "    recall = metrics.recall_score(y_test, y_pred,average='macro')\n",
    "    f1score = metrics.f1_score(y_test, y_pred,average='macro')\n",
    "    # rocscore = metrics.roc_auc_score(y_test, y_pred,average='micro',multi_class=\"ovo\")\n",
    "    confusion_matrix = metrics.confusion_matrix(y_test, y_pred)  \n",
    "    classification_report = metrics.classification_report(y_test, y_pred)\n",
    "\n",
    "    if to_print:\n",
    "        print(\"Identified {} correct labels out of {} labels\".format(len(correct_labels), y_test.shape[0]))\n",
    "        print(\"Accuracy:\",accuracy)\n",
    "        print(\"Precision:\",precision)\n",
    "        print(\"Recall:\",recall)\n",
    "        print(\"F1 Score:\",f1score)\n",
    "        # print(\"ROC AUC Score:\",rocscore)\n",
    "        print(f\"Labels are: {labels}\")\n",
    "        print(\"Confusion Matrix:\\n\", confusion_matrix)\n",
    "        print(\"Classification_Report:\\n\", classification_report)\n",
    "\n",
    "    return (correct_labels, accuracy, precision, recall, confusion_matrix, classification_report)"
   ]
  },
  {
   "cell_type": "code",
   "execution_count": 5,
   "metadata": {
    "tags": []
   },
   "outputs": [
    {
     "name": "stdout",
     "output_type": "stream",
     "text": [
      "cuda:0\n"
     ]
    }
   ],
   "source": [
    "# Initialize the PyTorch model\n",
    "n_classes = 2\n",
    "device = torch.device(\"cuda:0\" if torch.cuda.is_available() else \"cpu\")\n",
    "print(device)\n",
    "in_channels = X_sg.shape[1]\n",
    "\n",
    "PATCH_SIZE = 4\n",
    "DEPTH = 12\n",
    "HIDDEN_DIM = 64\n",
    "K_DIM = 128\n",
    "NUM_HEADS = 8\n",
    "\n",
    "LR = 1e-3\n",
    "STEP_SIZE = 5\n",
    "GAMMA = 0.9\n",
    "\n",
    "LIN_DROPOUT = 0.1\n",
    "\n",
    "seq_len = int((32/PATCH_SIZE)**2) + 1\n",
    "\n",
    "## Linformer\n",
    "lin = LinformerCA(dim=HIDDEN_DIM, seq_len=seq_len, depth=DEPTH, k=K_DIM, heads=NUM_HEADS,\n",
    "                dim_head=None, one_kv_head=False, share_kv=False, reversible=False, dropout=LIN_DROPOUT)\n",
    "\n",
    "## Vision Transformer\n",
    "model = ViT(image_size=32, patch_size=PATCH_SIZE, num_classes=n_classes, dim=HIDDEN_DIM, transformer=lin, pool='cls', channels=in_channels).to(device)\n"
   ]
  },
  {
   "cell_type": "code",
   "execution_count": 6,
   "metadata": {
    "tags": []
   },
   "outputs": [
    {
     "data": {
      "text/plain": [
       "ViT(\n",
       "  (to_patch_embedding): Sequential(\n",
       "    (0): Rearrange('b c (h p1) (w p2) -> b (h w) (p1 p2 c)', p1=4, p2=4)\n",
       "    (1): LayerNorm((80,), eps=1e-05, elementwise_affine=True)\n",
       "    (2): Linear(in_features=80, out_features=64, bias=True)\n",
       "    (3): LayerNorm((64,), eps=1e-05, elementwise_affine=True)\n",
       "  )\n",
       "  (to_dnn): Sequential(\n",
       "    (0): Linear(in_features=24, out_features=1024, bias=True)\n",
       "    (1): ReLU()\n",
       "    (2): Dropout(p=0.25, inplace=False)\n",
       "    (3): Linear(in_features=1024, out_features=512, bias=True)\n",
       "    (4): ReLU()\n",
       "    (5): Dropout(p=0.25, inplace=False)\n",
       "    (6): Linear(in_features=512, out_features=256, bias=True)\n",
       "    (7): ReLU()\n",
       "    (8): Dropout(p=0.25, inplace=False)\n",
       "    (9): Linear(in_features=256, out_features=64, bias=True)\n",
       "  )\n",
       "  (transformer): LinformerCA(\n",
       "    (net): SequentialSequence(\n",
       "      (layers): ModuleList(\n",
       "        (0-11): 12 x ModuleList(\n",
       "          (0): PreNorm(\n",
       "            (fn): LinformerCrossAttention(\n",
       "              (to_q): Linear(in_features=64, out_features=64, bias=False)\n",
       "              (to_k): Linear(in_features=64, out_features=64, bias=False)\n",
       "              (to_v): Linear(in_features=64, out_features=64, bias=False)\n",
       "              (dropout): Dropout(p=0.1, inplace=False)\n",
       "              (to_out): Linear(in_features=64, out_features=64, bias=True)\n",
       "            )\n",
       "            (norm): LayerNorm((64,), eps=1e-05, elementwise_affine=True)\n",
       "          )\n",
       "          (1): PreNorm(\n",
       "            (fn): FeedForward(\n",
       "              (w1): Linear(in_features=64, out_features=256, bias=True)\n",
       "              (act): GELU(approximate='none')\n",
       "              (dropout): Dropout(p=0.1, inplace=False)\n",
       "              (w2): Linear(in_features=256, out_features=64, bias=True)\n",
       "            )\n",
       "            (norm): LayerNorm((64,), eps=1e-05, elementwise_affine=True)\n",
       "          )\n",
       "        )\n",
       "      )\n",
       "    )\n",
       "  )\n",
       "  (to_latent): Identity()\n",
       "  (mlp_head): Sequential(\n",
       "    (0): LayerNorm((64,), eps=1e-05, elementwise_affine=True)\n",
       "    (1): Linear(in_features=64, out_features=2, bias=True)\n",
       "  )\n",
       ")"
      ]
     },
     "execution_count": 6,
     "metadata": {},
     "output_type": "execute_result"
    }
   ],
   "source": [
    "# Load the saved model state dictionary\n",
    "model.load_state_dict(torch.load('./Trained_Models/EX1_SG_ViTCLSPFCA_Model.pth', map_location=device))\n",
    "\n",
    "# Set the model to evaluation mode\n",
    "model.eval()\n"
   ]
  },
  {
   "cell_type": "code",
   "execution_count": 7,
   "metadata": {
    "tags": []
   },
   "outputs": [],
   "source": [
    "class SGData(Dataset):\n",
    "    def __init__(self, x1, x2, y, transform=None):\n",
    "        self.n_samples = x2.shape[0]\n",
    "        self.x1 = torch.tensor(x1, dtype=torch.float32)\n",
    "        self.x2 = torch.tensor(x2, dtype=torch.float32)\n",
    "        self.y = torch.tensor(y)\n",
    "        self.transform = transform\n",
    "\n",
    "    def __len__(self):\n",
    "        return self.n_samples\n",
    "\n",
    "    def __getitem__(self, i):\n",
    "        inputs_pf, inputs_imgs, targets = self.x1[i], self.x2[i], self.y[i]\n",
    "        \n",
    "        if self.transform:\n",
    "            inputs_pf = inputs_pf\n",
    "            inputs_imgs = self.transform(inputs_imgs)\n",
    "\n",
    "        return inputs_pf, inputs_imgs, targets"
   ]
  },
  {
   "cell_type": "code",
   "execution_count": 8,
   "metadata": {
    "tags": []
   },
   "outputs": [],
   "source": [
    "test_dataset = SGData(dnnx_sg, X_sg, y_sg, transform=None)\n",
    "test_loader = DataLoader(test_dataset, batch_size=512, shuffle=False, num_workers=4)\n"
   ]
  },
  {
   "cell_type": "code",
   "execution_count": 9,
   "metadata": {
    "tags": []
   },
   "outputs": [
    {
     "name": "stdout",
     "output_type": "stream",
     "text": [
      "\n",
      "\n",
      "Identified 17637 correct labels out of 19022 labels\n",
      "Accuracy: 0.9271895699716118\n",
      "Precision: 0.9325933039194193\n",
      "Recall: 0.9271895699716118\n",
      "F1 Score: 0.9269614800276064\n",
      "Labels are: ['GALAXY', 'STAR']\n",
      "Confusion Matrix:\n",
      " [[9350  161]\n",
      " [1224 8287]]\n",
      "Classification_Report:\n",
      "               precision    recall  f1-score   support\n",
      "\n",
      "           0       0.88      0.98      0.93      9511\n",
      "           1       0.98      0.87      0.92      9511\n",
      "\n",
      "    accuracy                           0.93     19022\n",
      "   macro avg       0.93      0.93      0.93     19022\n",
      "weighted avg       0.93      0.93      0.93     19022\n",
      "\n",
      "(array([    0,     1,     2, ..., 19019, 19020, 19021]), 0.9271895699716118, 0.9325933039194193, 0.9271895699716118, array([[9350,  161],\n",
      "       [1224, 8287]]), '              precision    recall  f1-score   support\\n\\n           0       0.88      0.98      0.93      9511\\n           1       0.98      0.87      0.92      9511\\n\\n    accuracy                           0.93     19022\\n   macro avg       0.93      0.93      0.93     19022\\nweighted avg       0.93      0.93      0.93     19022\\n')\n"
     ]
    }
   ],
   "source": [
    "label_strings = ['GALAXY', 'STAR']\n",
    "y_test_pred = torch.empty(0).to(device)\n",
    "print('\\n')\n",
    "# Generate predictions\n",
    "with torch.no_grad():\n",
    "    for pf, images, labels in test_loader:\n",
    "        pf = pf.to(device)\n",
    "        images = images.to(device)\n",
    "        labels = labels.to(device)\n",
    "        pred = model(pf, images)\n",
    "\n",
    "        y_test_pred = torch.cat((y_test_pred, pred), dim=0)\n",
    "\n",
    "y_test_pred = y_test_pred.cpu().numpy()\n",
    "y_test_pred = y_test_pred.argmax(axis=1)\n",
    "print(get_metrics(y_test_pred, y_sg, label_strings))\n",
    "\n"
   ]
  },
  {
   "cell_type": "code",
   "execution_count": 10,
   "metadata": {
    "tags": []
   },
   "outputs": [
    {
     "data": {
      "image/png": "[encoded data removed]",
      "text/plain": [
       "<Figure size 800x600 with 2 Axes>"
      ]
     },
     "metadata": {},
     "output_type": "display_data"
    }
   ],
   "source": [
    "# https://www.stackvidhya.com/plot-confusion-matrix-in-python-and-why/#google_vignette\n",
    "# fig = plt.figure()\n",
    "cf_matrix = metrics.confusion_matrix(y_sg, y_test_pred)\n",
    "cf_matrix_percentage = metrics.confusion_matrix(y_sg, y_test_pred, normalize='true')\n",
    "group_counts = [\"{0:0.0f}\".format(value) for value in cf_matrix.flatten()]\n",
    "group_percentages = [\"{0:.2%}\".format(value) for value in cf_matrix_percentage.flatten()]\n",
    "labels = [f\"{v1}\\n({v2})\\n\" for v1, v2 in\n",
    "          zip(group_percentages,group_counts)]\n",
    "labels = np.asarray(labels).reshape(2,2)\n",
    "fig, ax = plt.subplots(figsize=(8, 6))  # Adjust the size as needed\n",
    "\n",
    "ax = sns.heatmap(cf_matrix, annot=labels, fmt='', cmap='Blues')\n",
    "ax.set_xlabel('\\nPredicted', fontsize=14, weight='bold')\n",
    "ax.set_ylabel('Actual', fontsize=14, weight='bold');\n",
    "ax.xaxis.set_ticklabels(['GALAXY', 'STAR'], fontsize=14, weight='bold')\n",
    "ax.yaxis.set_ticklabels(['GALAXY', 'STAR'], fontsize=14, weight='bold')\n",
    "plt.tight_layout()\n",
    "plt.savefig(\"Trained_Models/EX3_SG_ViTCLSPFCA_CM.png\")\n",
    "# plt.close()\n"
   ]
  },
  {
   "cell_type": "code",
   "execution_count": null,
   "metadata": {},
   "outputs": [],
   "source": []
  }
 ],
 "metadata": {
  "kernelspec": {
   "display_name": "srinadh_astro",
   "language": "python",
   "name": "srinadh_astro"
  },
  "language_info": {
   "codemirror_mode": {
    "name": "ipython",
    "version": 3
   },
   "file_extension": ".py",
   "mimetype": "text/x-python",
   "name": "python",
   "nbconvert_exporter": "python",
   "pygments_lexer": "ipython3",
   "version": "3.10.14"
  },
  "papermill": {
   "duration": 15726.914552,
   "end_time": "2021-07-21T17:42:03.517308",
   "environment_variables": {},
   "exception": null,
   "input_path": "__notebook__.ipynb",
   "output_path": "__notebook__.ipynb",
   "parameters": {},
   "start_time": "2021-07-21T13:19:56.602756",
   "version": "2.1.0"
  },
  "widgets": {
   "application/vnd.jupyter.widget-state+json": {
    "state": {
     "13737d360091464fba29ee495874b5d4": {
      "model_module": "@jupyter-widgets/base",
      "model_module_version": "1.2.0",
      "model_name": "LayoutModel",
      "state": {
       "_model_module": "@jupyter-widgets/base",
       "_model_module_version": "1.2.0",
       "_model_name": "LayoutModel",
       "_view_count": null,
       "_view_module": "@jupyter-widgets/base",
       "_view_module_version": "1.2.0",
       "_view_name": "LayoutView",
       "align_content": null,
       "align_items": null,
       "align_self": null,
       "border": null,
       "bottom": null,
       "display": null,
       "flex": null,
       "flex_flow": null,
       "grid_area": null,
       "grid_auto_columns": null,
       "grid_auto_flow": null,
       "grid_auto_rows": null,
       "grid_column": null,
       "grid_gap": null,
       "grid_row": null,
       "grid_template_areas": null,
       "grid_template_columns": null,
       "grid_template_rows": null,
       "height": null,
       "justify_content": null,
       "justify_items": null,
       "left": null,
       "margin": null,
       "max_height": null,
       "max_width": null,
       "min_height": null,
       "min_width": null,
       "object_fit": null,
       "object_position": null,
       "order": null,
       "overflow": null,
       "overflow_x": null,
       "overflow_y": null,
       "padding": null,
       "right": null,
       "top": null,
       "visibility": null,
       "width": null
      }
     },
     "2738837ae36343e4a532579b2638d0f6": {
      "model_module": "@jupyter-widgets/controls",
      "model_module_version": "1.5.0",
      "model_name": "FloatProgressModel",
      "state": {
       "_dom_classes": [],
       "_model_module": "@jupyter-widgets/controls",
       "_model_module_version": "1.5.0",
       "_model_name": "FloatProgressModel",
       "_view_count": null,
       "_view_module": "@jupyter-widgets/controls",
       "_view_module_version": "1.5.0",
       "_view_name": "ProgressView",
       "bar_style": "success",
       "description": "100%",
       "description_tooltip": null,
       "layout": "IPY_MODEL_13737d360091464fba29ee495874b5d4",
       "max": 239999,
       "min": 0,
       "orientation": "horizontal",
       "style": "IPY_MODEL_70556d563bb5442ca1a73713b0cb2301",
       "value": 239999
      }
     },
     "2c48d5f14145464ea5d5d4f3d484cd12": {
      "model_module": "@jupyter-widgets/base",
      "model_module_version": "1.2.0",
      "model_name": "LayoutModel",
      "state": {
       "_model_module": "@jupyter-widgets/base",
       "_model_module_version": "1.2.0",
       "_model_name": "LayoutModel",
       "_view_count": null,
       "_view_module": "@jupyter-widgets/base",
       "_view_module_version": "1.2.0",
       "_view_name": "LayoutView",
       "align_content": null,
       "align_items": null,
       "align_self": null,
       "border": null,
       "bottom": null,
       "display": null,
       "flex": null,
       "flex_flow": null,
       "grid_area": null,
       "grid_auto_columns": null,
       "grid_auto_flow": null,
       "grid_auto_rows": null,
       "grid_column": null,
       "grid_gap": null,
       "grid_row": null,
       "grid_template_areas": null,
       "grid_template_columns": null,
       "grid_template_rows": null,
       "height": null,
       "justify_content": null,
       "justify_items": null,
       "left": null,
       "margin": null,
       "max_height": null,
       "max_width": null,
       "min_height": null,
       "min_width": null,
       "object_fit": null,
       "object_position": null,
       "order": null,
       "overflow": null,
       "overflow_x": null,
       "overflow_y": null,
       "padding": null,
       "right": null,
       "top": null,
       "visibility": null,
       "width": null
      }
     },
     "70556d563bb5442ca1a73713b0cb2301": {
      "model_module": "@jupyter-widgets/controls",
      "model_module_version": "1.5.0",
      "model_name": "ProgressStyleModel",
      "state": {
       "_model_module": "@jupyter-widgets/controls",
       "_model_module_version": "1.5.0",
       "_model_name": "ProgressStyleModel",
       "_view_count": null,
       "_view_module": "@jupyter-widgets/base",
       "_view_module_version": "1.2.0",
       "_view_name": "StyleView",
       "bar_color": null,
       "description_width": "initial"
      }
     },
     "965d3169abeb428a8ae075973943baad": {
      "model_module": "@jupyter-widgets/controls",
      "model_module_version": "1.5.0",
      "model_name": "HTMLModel",
      "state": {
       "_dom_classes": [],
       "_model_module": "@jupyter-widgets/controls",
       "_model_module_version": "1.5.0",
       "_model_name": "HTMLModel",
       "_view_count": null,
       "_view_module": "@jupyter-widgets/controls",
       "_view_module_version": "1.5.0",
       "_view_name": "HTMLView",
       "description": "",
       "description_tooltip": null,
       "layout": "IPY_MODEL_fb373925512f4b9abe60d5c9ca78614f",
       "placeholder": "​",
       "style": "IPY_MODEL_ec42390d1b004987b323f9b5017ae764",
       "value": " 239999/239999 [01:11&lt;00:00, 3367.98it/s]"
      }
     },
     "c286e17bfdaf4cae844d8d756abf50ae": {
      "model_module": "@jupyter-widgets/controls",
      "model_module_version": "1.5.0",
      "model_name": "HBoxModel",
      "state": {
       "_dom_classes": [],
       "_model_module": "@jupyter-widgets/controls",
       "_model_module_version": "1.5.0",
       "_model_name": "HBoxModel",
       "_view_count": null,
       "_view_module": "@jupyter-widgets/controls",
       "_view_module_version": "1.5.0",
       "_view_name": "HBoxView",
       "box_style": "",
       "children": [
        "IPY_MODEL_2738837ae36343e4a532579b2638d0f6",
        "IPY_MODEL_965d3169abeb428a8ae075973943baad"
       ],
       "layout": "IPY_MODEL_2c48d5f14145464ea5d5d4f3d484cd12"
      }
     },
     "ec42390d1b004987b323f9b5017ae764": {
      "model_module": "@jupyter-widgets/controls",
      "model_module_version": "1.5.0",
      "model_name": "DescriptionStyleModel",
      "state": {
       "_model_module": "@jupyter-widgets/controls",
       "_model_module_version": "1.5.0",
       "_model_name": "DescriptionStyleModel",
       "_view_count": null,
       "_view_module": "@jupyter-widgets/base",
       "_view_module_version": "1.2.0",
       "_view_name": "StyleView",
       "description_width": ""
      }
     },
     "fb373925512f4b9abe60d5c9ca78614f": {
      "model_module": "@jupyter-widgets/base",
      "model_module_version": "1.2.0",
      "model_name": "LayoutModel",
      "state": {
       "_model_module": "@jupyter-widgets/base",
       "_model_module_version": "1.2.0",
       "_model_name": "LayoutModel",
       "_view_count": null,
       "_view_module": "@jupyter-widgets/base",
       "_view_module_version": "1.2.0",
       "_view_name": "LayoutView",
       "align_content": null,
       "align_items": null,
       "align_self": null,
       "border": null,
       "bottom": null,
       "display": null,
       "flex": null,
       "flex_flow": null,
       "grid_area": null,
       "grid_auto_columns": null,
       "grid_auto_flow": null,
       "grid_auto_rows": null,
       "grid_column": null,
       "grid_gap": null,
       "grid_row": null,
       "grid_template_areas": null,
       "grid_template_columns": null,
       "grid_template_rows": null,
       "height": null,
       "justify_content": null,
       "justify_items": null,
       "left": null,
       "margin": null,
       "max_height": null,
       "max_width": null,
       "min_height": null,
       "min_width": null,
       "object_fit": null,
       "object_position": null,
       "order": null,
       "overflow": null,
       "overflow_x": null,
       "overflow_y": null,
       "padding": null,
       "right": null,
       "top": null,
       "visibility": null,
       "width": null
      }
     }
    },
    "version_major": 2,
    "version_minor": 0
   }
  }
 },
 "nbformat": 4,
 "nbformat_minor": 4
}
